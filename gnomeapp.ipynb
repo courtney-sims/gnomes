{
 "cells": [
  {
   "cell_type": "code",
   "execution_count": 1,
   "id": "8ea66c81",
   "metadata": {
    "execution": {
     "iopub.execute_input": "2023-01-23T01:39:00.493976Z",
     "iopub.status.busy": "2023-01-23T01:39:00.493529Z",
     "iopub.status.idle": "2023-01-23T01:39:00.498494Z",
     "shell.execute_reply": "2023-01-23T01:39:00.497546Z"
    },
    "papermill": {
     "duration": 0.013735,
     "end_time": "2023-01-23T01:39:00.501718",
     "exception": false,
     "start_time": "2023-01-23T01:39:00.487983",
     "status": "completed"
    },
    "tags": []
   },
   "outputs": [],
   "source": [
    "#Prep the app with voila\n",
    "#!pip install voila\n",
    "#!jupyter serverextension enable --sys-prefix voila"
   ]
  },
  {
   "cell_type": "code",
   "execution_count": 2,
   "id": "2ce0fd11",
   "metadata": {
    "execution": {
     "iopub.execute_input": "2023-01-23T01:39:00.509121Z",
     "iopub.status.busy": "2023-01-23T01:39:00.508691Z",
     "iopub.status.idle": "2023-01-23T01:39:00.513380Z",
     "shell.execute_reply": "2023-01-23T01:39:00.512292Z"
    },
    "papermill": {
     "duration": 0.010943,
     "end_time": "2023-01-23T01:39:00.515631",
     "exception": false,
     "start_time": "2023-01-23T01:39:00.504688",
     "status": "completed"
    },
    "tags": []
   },
   "outputs": [],
   "source": [
    "#!pip install fastai"
   ]
  },
  {
   "cell_type": "code",
   "execution_count": 3,
   "id": "fe72e9b6",
   "metadata": {
    "execution": {
     "iopub.execute_input": "2023-01-23T01:39:00.523425Z",
     "iopub.status.busy": "2023-01-23T01:39:00.523050Z",
     "iopub.status.idle": "2023-01-23T01:39:04.209800Z",
     "shell.execute_reply": "2023-01-23T01:39:04.208565Z"
    },
    "papermill": {
     "duration": 3.693965,
     "end_time": "2023-01-23T01:39:04.212805",
     "exception": false,
     "start_time": "2023-01-23T01:39:00.518840",
     "status": "completed"
    },
    "tags": []
   },
   "outputs": [],
   "source": [
    "from fastai.vision.all import *\n",
    "from fastai.vision.widgets import *"
   ]
  },
  {
   "cell_type": "code",
   "execution_count": 4,
   "id": "c3ae7942",
   "metadata": {
    "execution": {
     "iopub.execute_input": "2023-01-23T01:39:04.220308Z",
     "iopub.status.busy": "2023-01-23T01:39:04.219685Z",
     "iopub.status.idle": "2023-01-23T01:39:05.207170Z",
     "shell.execute_reply": "2023-01-23T01:39:05.205830Z"
    },
    "papermill": {
     "duration": 0.997372,
     "end_time": "2023-01-23T01:39:05.213106",
     "exception": false,
     "start_time": "2023-01-23T01:39:04.215734",
     "status": "completed"
    },
    "tags": []
   },
   "outputs": [],
   "source": [
    "learn_inf = load_learner('../input/winterfest/export.pkl', cpu=True)\n",
    "btn_upload = widgets.FileUpload()\n",
    "out_pl = widgets.Output()\n",
    "lbl_pred = widgets.Label()"
   ]
  },
  {
   "cell_type": "code",
   "execution_count": 5,
   "id": "bbeb0fd8",
   "metadata": {
    "execution": {
     "iopub.execute_input": "2023-01-23T01:39:05.220412Z",
     "iopub.status.busy": "2023-01-23T01:39:05.219967Z",
     "iopub.status.idle": "2023-01-23T01:39:05.226878Z",
     "shell.execute_reply": "2023-01-23T01:39:05.225584Z"
    },
    "papermill": {
     "duration": 0.01356,
     "end_time": "2023-01-23T01:39:05.229522",
     "exception": false,
     "start_time": "2023-01-23T01:39:05.215962",
     "status": "completed"
    },
    "tags": []
   },
   "outputs": [],
   "source": [
    "def on_data_change(change):\n",
    "    lbl_pred.value = ''\n",
    "    img = PILImage.create(btn_upload.data[-1])\n",
    "    out_pl.clear_output()\n",
    "    with out_pl: display(img.to_thumb(128,128))\n",
    "    pred,pred_idx,probs = learn_inf.predict(img)\n",
    "    lbl_pred.value = f'Prediction: {pred}; Probability: {probs[pred_idx]:.04f}'"
   ]
  },
  {
   "cell_type": "code",
   "execution_count": 6,
   "id": "b8883a4c",
   "metadata": {
    "execution": {
     "iopub.execute_input": "2023-01-23T01:39:05.236698Z",
     "iopub.status.busy": "2023-01-23T01:39:05.236249Z",
     "iopub.status.idle": "2023-01-23T01:39:05.241680Z",
     "shell.execute_reply": "2023-01-23T01:39:05.240650Z"
    },
    "papermill": {
     "duration": 0.011556,
     "end_time": "2023-01-23T01:39:05.243946",
     "exception": false,
     "start_time": "2023-01-23T01:39:05.232390",
     "status": "completed"
    },
    "tags": []
   },
   "outputs": [],
   "source": [
    "btn_upload.observe(on_data_change, names=['data'])"
   ]
  },
  {
   "cell_type": "code",
   "execution_count": 7,
   "id": "1ea72098",
   "metadata": {
    "execution": {
     "iopub.execute_input": "2023-01-23T01:39:05.250916Z",
     "iopub.status.busy": "2023-01-23T01:39:05.250536Z",
     "iopub.status.idle": "2023-01-23T01:39:05.274783Z",
     "shell.execute_reply": "2023-01-23T01:39:05.273431Z"
    },
    "papermill": {
     "duration": 0.033654,
     "end_time": "2023-01-23T01:39:05.280378",
     "exception": false,
     "start_time": "2023-01-23T01:39:05.246724",
     "status": "completed"
    },
    "tags": []
   },
   "outputs": [
    {
     "data": {
      "application/vnd.jupyter.widget-view+json": {
       "model_id": "003b3e88a7d5431ba37d02d96bd844e1",
       "version_major": 2,
       "version_minor": 0
      },
      "text/plain": [
       "VBox(children=(Label(value='Offer your gift!'), FileUpload(value={}, description='Upload'), Output(), Label(va…"
      ]
     },
     "metadata": {},
     "output_type": "display_data"
    }
   ],
   "source": [
    "display(VBox([widgets.Label('Offer your gift!'), btn_upload, out_pl, lbl_pred]))\n"
   ]
  }
 ],
 "metadata": {
  "kernelspec": {
   "display_name": "Python 3",
   "language": "python",
   "name": "python3"
  },
  "language_info": {
   "codemirror_mode": {
    "name": "ipython",
    "version": 3
   },
   "file_extension": ".py",
   "mimetype": "text/x-python",
   "name": "python",
   "nbconvert_exporter": "python",
   "pygments_lexer": "ipython3",
   "version": "3.7.12"
  },
  "papermill": {
   "default_parameters": {},
   "duration": 14.693136,
   "end_time": "2023-01-23T01:39:06.307664",
   "environment_variables": {},
   "exception": null,
   "input_path": "__notebook__.ipynb",
   "output_path": "__notebook__.ipynb",
   "parameters": {},
   "start_time": "2023-01-23T01:38:51.614528",
   "version": "2.3.4"
  },
  "widgets": {
   "application/vnd.jupyter.widget-state+json": {
    "state": {
     "003b3e88a7d5431ba37d02d96bd844e1": {
      "model_module": "@jupyter-widgets/controls",
      "model_module_version": "1.5.0",
      "model_name": "VBoxModel",
      "state": {
       "_dom_classes": [],
       "_model_module": "@jupyter-widgets/controls",
       "_model_module_version": "1.5.0",
       "_model_name": "VBoxModel",
       "_view_count": null,
       "_view_module": "@jupyter-widgets/controls",
       "_view_module_version": "1.5.0",
       "_view_name": "VBoxView",
       "box_style": "",
       "children": [
        "IPY_MODEL_34505c9fa8964d76b6f04bf8a4b5ca50",
        "IPY_MODEL_2b0dcfd95a93421fb8a20fa96eeaca3b",
        "IPY_MODEL_be0966b153ff45ebbe7fc0420b8b7ca4",
        "IPY_MODEL_756dbee735c14b19a4e63d19cac97b96"
       ],
       "layout": "IPY_MODEL_0ecde5aafb77404081e036b435f6fdb3"
      }
     },
     "0ecde5aafb77404081e036b435f6fdb3": {
      "model_module": "@jupyter-widgets/base",
      "model_module_version": "1.2.0",
      "model_name": "LayoutModel",
      "state": {
       "_model_module": "@jupyter-widgets/base",
       "_model_module_version": "1.2.0",
       "_model_name": "LayoutModel",
       "_view_count": null,
       "_view_module": "@jupyter-widgets/base",
       "_view_module_version": "1.2.0",
       "_view_name": "LayoutView",
       "align_content": null,
       "align_items": null,
       "align_self": null,
       "border": null,
       "bottom": null,
       "display": null,
       "flex": null,
       "flex_flow": null,
       "grid_area": null,
       "grid_auto_columns": null,
       "grid_auto_flow": null,
       "grid_auto_rows": null,
       "grid_column": null,
       "grid_gap": null,
       "grid_row": null,
       "grid_template_areas": null,
       "grid_template_columns": null,
       "grid_template_rows": null,
       "height": null,
       "justify_content": null,
       "justify_items": null,
       "left": null,
       "margin": null,
       "max_height": null,
       "max_width": null,
       "min_height": null,
       "min_width": null,
       "object_fit": null,
       "object_position": null,
       "order": null,
       "overflow": null,
       "overflow_x": null,
       "overflow_y": null,
       "padding": null,
       "right": null,
       "top": null,
       "visibility": null,
       "width": null
      }
     },
     "27affba7217547bea29fe4098a70bb26": {
      "model_module": "@jupyter-widgets/base",
      "model_module_version": "1.2.0",
      "model_name": "LayoutModel",
      "state": {
       "_model_module": "@jupyter-widgets/base",
       "_model_module_version": "1.2.0",
       "_model_name": "LayoutModel",
       "_view_count": null,
       "_view_module": "@jupyter-widgets/base",
       "_view_module_version": "1.2.0",
       "_view_name": "LayoutView",
       "align_content": null,
       "align_items": null,
       "align_self": null,
       "border": null,
       "bottom": null,
       "display": null,
       "flex": null,
       "flex_flow": null,
       "grid_area": null,
       "grid_auto_columns": null,
       "grid_auto_flow": null,
       "grid_auto_rows": null,
       "grid_column": null,
       "grid_gap": null,
       "grid_row": null,
       "grid_template_areas": null,
       "grid_template_columns": null,
       "grid_template_rows": null,
       "height": null,
       "justify_content": null,
       "justify_items": null,
       "left": null,
       "margin": null,
       "max_height": null,
       "max_width": null,
       "min_height": null,
       "min_width": null,
       "object_fit": null,
       "object_position": null,
       "order": null,
       "overflow": null,
       "overflow_x": null,
       "overflow_y": null,
       "padding": null,
       "right": null,
       "top": null,
       "visibility": null,
       "width": null
      }
     },
     "2b0dcfd95a93421fb8a20fa96eeaca3b": {
      "model_module": "@jupyter-widgets/controls",
      "model_module_version": "1.5.0",
      "model_name": "FileUploadModel",
      "state": {
       "_counter": 0,
       "_dom_classes": [],
       "_model_module": "@jupyter-widgets/controls",
       "_model_module_version": "1.5.0",
       "_model_name": "FileUploadModel",
       "_view_count": null,
       "_view_module": "@jupyter-widgets/controls",
       "_view_module_version": "1.5.0",
       "_view_name": "FileUploadView",
       "accept": "",
       "button_style": "",
       "data": [],
       "description": "Upload",
       "description_tooltip": null,
       "disabled": false,
       "error": "",
       "icon": "upload",
       "layout": "IPY_MODEL_762f04a83f2347c4aac7ea0c1d1511a3",
       "metadata": [],
       "multiple": false,
       "style": "IPY_MODEL_c37360d21cf54831860c8caa7e145ac3"
      }
     },
     "34505c9fa8964d76b6f04bf8a4b5ca50": {
      "model_module": "@jupyter-widgets/controls",
      "model_module_version": "1.5.0",
      "model_name": "LabelModel",
      "state": {
       "_dom_classes": [],
       "_model_module": "@jupyter-widgets/controls",
       "_model_module_version": "1.5.0",
       "_model_name": "LabelModel",
       "_view_count": null,
       "_view_module": "@jupyter-widgets/controls",
       "_view_module_version": "1.5.0",
       "_view_name": "LabelView",
       "description": "",
       "description_tooltip": null,
       "layout": "IPY_MODEL_55136ae6988e4424857bb9cda57821bf",
       "placeholder": "​",
       "style": "IPY_MODEL_b3ceb817211d41c4833dc6a1dcf60dc7",
       "value": "Offer your gift!"
      }
     },
     "55136ae6988e4424857bb9cda57821bf": {
      "model_module": "@jupyter-widgets/base",
      "model_module_version": "1.2.0",
      "model_name": "LayoutModel",
      "state": {
       "_model_module": "@jupyter-widgets/base",
       "_model_module_version": "1.2.0",
       "_model_name": "LayoutModel",
       "_view_count": null,
       "_view_module": "@jupyter-widgets/base",
       "_view_module_version": "1.2.0",
       "_view_name": "LayoutView",
       "align_content": null,
       "align_items": null,
       "align_self": null,
       "border": null,
       "bottom": null,
       "display": null,
       "flex": null,
       "flex_flow": null,
       "grid_area": null,
       "grid_auto_columns": null,
       "grid_auto_flow": null,
       "grid_auto_rows": null,
       "grid_column": null,
       "grid_gap": null,
       "grid_row": null,
       "grid_template_areas": null,
       "grid_template_columns": null,
       "grid_template_rows": null,
       "height": null,
       "justify_content": null,
       "justify_items": null,
       "left": null,
       "margin": null,
       "max_height": null,
       "max_width": null,
       "min_height": null,
       "min_width": null,
       "object_fit": null,
       "object_position": null,
       "order": null,
       "overflow": null,
       "overflow_x": null,
       "overflow_y": null,
       "padding": null,
       "right": null,
       "top": null,
       "visibility": null,
       "width": null
      }
     },
     "5c7601afb74d479785b007fe06da1e1d": {
      "model_module": "@jupyter-widgets/controls",
      "model_module_version": "1.5.0",
      "model_name": "DescriptionStyleModel",
      "state": {
       "_model_module": "@jupyter-widgets/controls",
       "_model_module_version": "1.5.0",
       "_model_name": "DescriptionStyleModel",
       "_view_count": null,
       "_view_module": "@jupyter-widgets/base",
       "_view_module_version": "1.2.0",
       "_view_name": "StyleView",
       "description_width": ""
      }
     },
     "61346a91cdb24fc4a3e3ab3f168eaa60": {
      "model_module": "@jupyter-widgets/base",
      "model_module_version": "1.2.0",
      "model_name": "LayoutModel",
      "state": {
       "_model_module": "@jupyter-widgets/base",
       "_model_module_version": "1.2.0",
       "_model_name": "LayoutModel",
       "_view_count": null,
       "_view_module": "@jupyter-widgets/base",
       "_view_module_version": "1.2.0",
       "_view_name": "LayoutView",
       "align_content": null,
       "align_items": null,
       "align_self": null,
       "border": null,
       "bottom": null,
       "display": null,
       "flex": null,
       "flex_flow": null,
       "grid_area": null,
       "grid_auto_columns": null,
       "grid_auto_flow": null,
       "grid_auto_rows": null,
       "grid_column": null,
       "grid_gap": null,
       "grid_row": null,
       "grid_template_areas": null,
       "grid_template_columns": null,
       "grid_template_rows": null,
       "height": null,
       "justify_content": null,
       "justify_items": null,
       "left": null,
       "margin": null,
       "max_height": null,
       "max_width": null,
       "min_height": null,
       "min_width": null,
       "object_fit": null,
       "object_position": null,
       "order": null,
       "overflow": null,
       "overflow_x": null,
       "overflow_y": null,
       "padding": null,
       "right": null,
       "top": null,
       "visibility": null,
       "width": null
      }
     },
     "756dbee735c14b19a4e63d19cac97b96": {
      "model_module": "@jupyter-widgets/controls",
      "model_module_version": "1.5.0",
      "model_name": "LabelModel",
      "state": {
       "_dom_classes": [],
       "_model_module": "@jupyter-widgets/controls",
       "_model_module_version": "1.5.0",
       "_model_name": "LabelModel",
       "_view_count": null,
       "_view_module": "@jupyter-widgets/controls",
       "_view_module_version": "1.5.0",
       "_view_name": "LabelView",
       "description": "",
       "description_tooltip": null,
       "layout": "IPY_MODEL_61346a91cdb24fc4a3e3ab3f168eaa60",
       "placeholder": "​",
       "style": "IPY_MODEL_5c7601afb74d479785b007fe06da1e1d",
       "value": ""
      }
     },
     "762f04a83f2347c4aac7ea0c1d1511a3": {
      "model_module": "@jupyter-widgets/base",
      "model_module_version": "1.2.0",
      "model_name": "LayoutModel",
      "state": {
       "_model_module": "@jupyter-widgets/base",
       "_model_module_version": "1.2.0",
       "_model_name": "LayoutModel",
       "_view_count": null,
       "_view_module": "@jupyter-widgets/base",
       "_view_module_version": "1.2.0",
       "_view_name": "LayoutView",
       "align_content": null,
       "align_items": null,
       "align_self": null,
       "border": null,
       "bottom": null,
       "display": null,
       "flex": null,
       "flex_flow": null,
       "grid_area": null,
       "grid_auto_columns": null,
       "grid_auto_flow": null,
       "grid_auto_rows": null,
       "grid_column": null,
       "grid_gap": null,
       "grid_row": null,
       "grid_template_areas": null,
       "grid_template_columns": null,
       "grid_template_rows": null,
       "height": null,
       "justify_content": null,
       "justify_items": null,
       "left": null,
       "margin": null,
       "max_height": null,
       "max_width": null,
       "min_height": null,
       "min_width": null,
       "object_fit": null,
       "object_position": null,
       "order": null,
       "overflow": null,
       "overflow_x": null,
       "overflow_y": null,
       "padding": null,
       "right": null,
       "top": null,
       "visibility": null,
       "width": null
      }
     },
     "b3ceb817211d41c4833dc6a1dcf60dc7": {
      "model_module": "@jupyter-widgets/controls",
      "model_module_version": "1.5.0",
      "model_name": "DescriptionStyleModel",
      "state": {
       "_model_module": "@jupyter-widgets/controls",
       "_model_module_version": "1.5.0",
       "_model_name": "DescriptionStyleModel",
       "_view_count": null,
       "_view_module": "@jupyter-widgets/base",
       "_view_module_version": "1.2.0",
       "_view_name": "StyleView",
       "description_width": ""
      }
     },
     "be0966b153ff45ebbe7fc0420b8b7ca4": {
      "model_module": "@jupyter-widgets/output",
      "model_module_version": "1.0.0",
      "model_name": "OutputModel",
      "state": {
       "_dom_classes": [],
       "_model_module": "@jupyter-widgets/output",
       "_model_module_version": "1.0.0",
       "_model_name": "OutputModel",
       "_view_count": null,
       "_view_module": "@jupyter-widgets/output",
       "_view_module_version": "1.0.0",
       "_view_name": "OutputView",
       "layout": "IPY_MODEL_27affba7217547bea29fe4098a70bb26",
       "msg_id": "",
       "outputs": []
      }
     },
     "c37360d21cf54831860c8caa7e145ac3": {
      "model_module": "@jupyter-widgets/controls",
      "model_module_version": "1.5.0",
      "model_name": "ButtonStyleModel",
      "state": {
       "_model_module": "@jupyter-widgets/controls",
       "_model_module_version": "1.5.0",
       "_model_name": "ButtonStyleModel",
       "_view_count": null,
       "_view_module": "@jupyter-widgets/base",
       "_view_module_version": "1.2.0",
       "_view_name": "StyleView",
       "button_color": null,
       "font_weight": ""
      }
     }
    },
    "version_major": 2,
    "version_minor": 0
   }
  }
 },
 "nbformat": 4,
 "nbformat_minor": 5
}
